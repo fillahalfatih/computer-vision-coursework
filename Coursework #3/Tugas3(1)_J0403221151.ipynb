{
  "nbformat": 4,
  "nbformat_minor": 0,
  "metadata": {
    "colab": {
      "provenance": []
    },
    "kernelspec": {
      "name": "python3",
      "display_name": "Python 3"
    },
    "language_info": {
      "name": "python"
    }
  },
  "cells": [
    {
      "cell_type": "code",
      "source": [
        "from google.colab import drive\n",
        "import sys\n",
        "import os\n",
        "drive.mount('/content/gdrive')\n",
        "drivePath = ('/content/gdrive/My Drive/DataViskom')\n",
        "sys.path.append(drivePath)\n",
        "os.chdir(drivePath)\n",
        "current_dir = os.getcwd()\n",
        "current_dir"
      ],
      "metadata": {
        "colab": {
          "base_uri": "https://localhost:8080/",
          "height": 53
        },
        "id": "YrdE8LuyL8v1",
        "outputId": "540963f2-e609-437f-aa1a-ecf023ed0257"
      },
      "execution_count": null,
      "outputs": [
        {
          "output_type": "stream",
          "name": "stdout",
          "text": [
            "Drive already mounted at /content/gdrive; to attempt to forcibly remount, call drive.mount(\"/content/gdrive\", force_remount=True).\n"
          ]
        },
        {
          "output_type": "execute_result",
          "data": {
            "text/plain": [
              "'/content/gdrive/My Drive/DataViskom'"
            ],
            "application/vnd.google.colaboratory.intrinsic+json": {
              "type": "string"
            }
          },
          "metadata": {},
          "execution_count": 2
        }
      ]
    },
    {
      "cell_type": "markdown",
      "source": [
        "Kode di atas digunakan untuk menghubungkan Google Colab dengan Google Drive dan mengatur direktori kerja ke folder tertentu di dalam Drive. Pertama, drive.mount('/content/gdrive') digunakan untuk me-mount Google Drive ke dalam lingkungan Google Colab, sehingga pengguna dapat mengakses file yang tersimpan di dalamnya. Selanjutnya, variabel drivePath didefinisikan dengan path folder yang ingin digunakan, yaitu '/content/gdrive/My Drive/DataViskom'."
      ],
      "metadata": {
        "id": "olrUQRbNRVlw"
      }
    },
    {
      "cell_type": "code",
      "source": [
        "import pandas as pd\n",
        "import numpy as np\n",
        "import random as rnd\n",
        "\n",
        "# visualization\n",
        "import seaborn as sns\n",
        "import matplotlib.pyplot as plt\n",
        "%matplotlib inline\n",
        "\n",
        "df = pd.read_csv('diabetes.csv')\n",
        "\n",
        "df.head()"
      ],
      "metadata": {
        "colab": {
          "base_uri": "https://localhost:8080/",
          "height": 206
        },
        "id": "nEoxzfcUMAnr",
        "outputId": "398bd43b-10f6-4e9a-bdf1-d4bf88c5071e"
      },
      "execution_count": null,
      "outputs": [
        {
          "output_type": "execute_result",
          "data": {
            "text/plain": [
              "   Pregnancies  Glucose  BloodPressure  SkinThickness  Insulin   BMI  \\\n",
              "0            6      148             72             35        0  33.6   \n",
              "1            1       85             66             29        0  26.6   \n",
              "2            8      183             64              0        0  23.3   \n",
              "3            1       89             66             23       94  28.1   \n",
              "4            0      137             40             35      168  43.1   \n",
              "\n",
              "   DiabetesPedigreeFunction  Age  Outcome  \n",
              "0                     0.627   50        1  \n",
              "1                     0.351   31        0  \n",
              "2                     0.672   32        1  \n",
              "3                     0.167   21        0  \n",
              "4                     2.288   33        1  "
            ],
            "text/html": [
              "\n",
              "  <div id=\"df-cc6947a5-66e4-47ed-8b69-5ab66869fca2\" class=\"colab-df-container\">\n",
              "    <div>\n",
              "<style scoped>\n",
              "    .dataframe tbody tr th:only-of-type {\n",
              "        vertical-align: middle;\n",
              "    }\n",
              "\n",
              "    .dataframe tbody tr th {\n",
              "        vertical-align: top;\n",
              "    }\n",
              "\n",
              "    .dataframe thead th {\n",
              "        text-align: right;\n",
              "    }\n",
              "</style>\n",
              "<table border=\"1\" class=\"dataframe\">\n",
              "  <thead>\n",
              "    <tr style=\"text-align: right;\">\n",
              "      <th></th>\n",
              "      <th>Pregnancies</th>\n",
              "      <th>Glucose</th>\n",
              "      <th>BloodPressure</th>\n",
              "      <th>SkinThickness</th>\n",
              "      <th>Insulin</th>\n",
              "      <th>BMI</th>\n",
              "      <th>DiabetesPedigreeFunction</th>\n",
              "      <th>Age</th>\n",
              "      <th>Outcome</th>\n",
              "    </tr>\n",
              "  </thead>\n",
              "  <tbody>\n",
              "    <tr>\n",
              "      <th>0</th>\n",
              "      <td>6</td>\n",
              "      <td>148</td>\n",
              "      <td>72</td>\n",
              "      <td>35</td>\n",
              "      <td>0</td>\n",
              "      <td>33.6</td>\n",
              "      <td>0.627</td>\n",
              "      <td>50</td>\n",
              "      <td>1</td>\n",
              "    </tr>\n",
              "    <tr>\n",
              "      <th>1</th>\n",
              "      <td>1</td>\n",
              "      <td>85</td>\n",
              "      <td>66</td>\n",
              "      <td>29</td>\n",
              "      <td>0</td>\n",
              "      <td>26.6</td>\n",
              "      <td>0.351</td>\n",
              "      <td>31</td>\n",
              "      <td>0</td>\n",
              "    </tr>\n",
              "    <tr>\n",
              "      <th>2</th>\n",
              "      <td>8</td>\n",
              "      <td>183</td>\n",
              "      <td>64</td>\n",
              "      <td>0</td>\n",
              "      <td>0</td>\n",
              "      <td>23.3</td>\n",
              "      <td>0.672</td>\n",
              "      <td>32</td>\n",
              "      <td>1</td>\n",
              "    </tr>\n",
              "    <tr>\n",
              "      <th>3</th>\n",
              "      <td>1</td>\n",
              "      <td>89</td>\n",
              "      <td>66</td>\n",
              "      <td>23</td>\n",
              "      <td>94</td>\n",
              "      <td>28.1</td>\n",
              "      <td>0.167</td>\n",
              "      <td>21</td>\n",
              "      <td>0</td>\n",
              "    </tr>\n",
              "    <tr>\n",
              "      <th>4</th>\n",
              "      <td>0</td>\n",
              "      <td>137</td>\n",
              "      <td>40</td>\n",
              "      <td>35</td>\n",
              "      <td>168</td>\n",
              "      <td>43.1</td>\n",
              "      <td>2.288</td>\n",
              "      <td>33</td>\n",
              "      <td>1</td>\n",
              "    </tr>\n",
              "  </tbody>\n",
              "</table>\n",
              "</div>\n",
              "    <div class=\"colab-df-buttons\">\n",
              "\n",
              "  <div class=\"colab-df-container\">\n",
              "    <button class=\"colab-df-convert\" onclick=\"convertToInteractive('df-cc6947a5-66e4-47ed-8b69-5ab66869fca2')\"\n",
              "            title=\"Convert this dataframe to an interactive table.\"\n",
              "            style=\"display:none;\">\n",
              "\n",
              "  <svg xmlns=\"http://www.w3.org/2000/svg\" height=\"24px\" viewBox=\"0 -960 960 960\">\n",
              "    <path d=\"M120-120v-720h720v720H120Zm60-500h600v-160H180v160Zm220 220h160v-160H400v160Zm0 220h160v-160H400v160ZM180-400h160v-160H180v160Zm440 0h160v-160H620v160ZM180-180h160v-160H180v160Zm440 0h160v-160H620v160Z\"/>\n",
              "  </svg>\n",
              "    </button>\n",
              "\n",
              "  <style>\n",
              "    .colab-df-container {\n",
              "      display:flex;\n",
              "      gap: 12px;\n",
              "    }\n",
              "\n",
              "    .colab-df-convert {\n",
              "      background-color: #E8F0FE;\n",
              "      border: none;\n",
              "      border-radius: 50%;\n",
              "      cursor: pointer;\n",
              "      display: none;\n",
              "      fill: #1967D2;\n",
              "      height: 32px;\n",
              "      padding: 0 0 0 0;\n",
              "      width: 32px;\n",
              "    }\n",
              "\n",
              "    .colab-df-convert:hover {\n",
              "      background-color: #E2EBFA;\n",
              "      box-shadow: 0px 1px 2px rgba(60, 64, 67, 0.3), 0px 1px 3px 1px rgba(60, 64, 67, 0.15);\n",
              "      fill: #174EA6;\n",
              "    }\n",
              "\n",
              "    .colab-df-buttons div {\n",
              "      margin-bottom: 4px;\n",
              "    }\n",
              "\n",
              "    [theme=dark] .colab-df-convert {\n",
              "      background-color: #3B4455;\n",
              "      fill: #D2E3FC;\n",
              "    }\n",
              "\n",
              "    [theme=dark] .colab-df-convert:hover {\n",
              "      background-color: #434B5C;\n",
              "      box-shadow: 0px 1px 3px 1px rgba(0, 0, 0, 0.15);\n",
              "      filter: drop-shadow(0px 1px 2px rgba(0, 0, 0, 0.3));\n",
              "      fill: #FFFFFF;\n",
              "    }\n",
              "  </style>\n",
              "\n",
              "    <script>\n",
              "      const buttonEl =\n",
              "        document.querySelector('#df-cc6947a5-66e4-47ed-8b69-5ab66869fca2 button.colab-df-convert');\n",
              "      buttonEl.style.display =\n",
              "        google.colab.kernel.accessAllowed ? 'block' : 'none';\n",
              "\n",
              "      async function convertToInteractive(key) {\n",
              "        const element = document.querySelector('#df-cc6947a5-66e4-47ed-8b69-5ab66869fca2');\n",
              "        const dataTable =\n",
              "          await google.colab.kernel.invokeFunction('convertToInteractive',\n",
              "                                                    [key], {});\n",
              "        if (!dataTable) return;\n",
              "\n",
              "        const docLinkHtml = 'Like what you see? Visit the ' +\n",
              "          '<a target=\"_blank\" href=https://colab.research.google.com/notebooks/data_table.ipynb>data table notebook</a>'\n",
              "          + ' to learn more about interactive tables.';\n",
              "        element.innerHTML = '';\n",
              "        dataTable['output_type'] = 'display_data';\n",
              "        await google.colab.output.renderOutput(dataTable, element);\n",
              "        const docLink = document.createElement('div');\n",
              "        docLink.innerHTML = docLinkHtml;\n",
              "        element.appendChild(docLink);\n",
              "      }\n",
              "    </script>\n",
              "  </div>\n",
              "\n",
              "\n",
              "<div id=\"df-1a2188e4-38ce-4364-a7e9-bd32ca344068\">\n",
              "  <button class=\"colab-df-quickchart\" onclick=\"quickchart('df-1a2188e4-38ce-4364-a7e9-bd32ca344068')\"\n",
              "            title=\"Suggest charts\"\n",
              "            style=\"display:none;\">\n",
              "\n",
              "<svg xmlns=\"http://www.w3.org/2000/svg\" height=\"24px\"viewBox=\"0 0 24 24\"\n",
              "     width=\"24px\">\n",
              "    <g>\n",
              "        <path d=\"M19 3H5c-1.1 0-2 .9-2 2v14c0 1.1.9 2 2 2h14c1.1 0 2-.9 2-2V5c0-1.1-.9-2-2-2zM9 17H7v-7h2v7zm4 0h-2V7h2v10zm4 0h-2v-4h2v4z\"/>\n",
              "    </g>\n",
              "</svg>\n",
              "  </button>\n",
              "\n",
              "<style>\n",
              "  .colab-df-quickchart {\n",
              "      --bg-color: #E8F0FE;\n",
              "      --fill-color: #1967D2;\n",
              "      --hover-bg-color: #E2EBFA;\n",
              "      --hover-fill-color: #174EA6;\n",
              "      --disabled-fill-color: #AAA;\n",
              "      --disabled-bg-color: #DDD;\n",
              "  }\n",
              "\n",
              "  [theme=dark] .colab-df-quickchart {\n",
              "      --bg-color: #3B4455;\n",
              "      --fill-color: #D2E3FC;\n",
              "      --hover-bg-color: #434B5C;\n",
              "      --hover-fill-color: #FFFFFF;\n",
              "      --disabled-bg-color: #3B4455;\n",
              "      --disabled-fill-color: #666;\n",
              "  }\n",
              "\n",
              "  .colab-df-quickchart {\n",
              "    background-color: var(--bg-color);\n",
              "    border: none;\n",
              "    border-radius: 50%;\n",
              "    cursor: pointer;\n",
              "    display: none;\n",
              "    fill: var(--fill-color);\n",
              "    height: 32px;\n",
              "    padding: 0;\n",
              "    width: 32px;\n",
              "  }\n",
              "\n",
              "  .colab-df-quickchart:hover {\n",
              "    background-color: var(--hover-bg-color);\n",
              "    box-shadow: 0 1px 2px rgba(60, 64, 67, 0.3), 0 1px 3px 1px rgba(60, 64, 67, 0.15);\n",
              "    fill: var(--button-hover-fill-color);\n",
              "  }\n",
              "\n",
              "  .colab-df-quickchart-complete:disabled,\n",
              "  .colab-df-quickchart-complete:disabled:hover {\n",
              "    background-color: var(--disabled-bg-color);\n",
              "    fill: var(--disabled-fill-color);\n",
              "    box-shadow: none;\n",
              "  }\n",
              "\n",
              "  .colab-df-spinner {\n",
              "    border: 2px solid var(--fill-color);\n",
              "    border-color: transparent;\n",
              "    border-bottom-color: var(--fill-color);\n",
              "    animation:\n",
              "      spin 1s steps(1) infinite;\n",
              "  }\n",
              "\n",
              "  @keyframes spin {\n",
              "    0% {\n",
              "      border-color: transparent;\n",
              "      border-bottom-color: var(--fill-color);\n",
              "      border-left-color: var(--fill-color);\n",
              "    }\n",
              "    20% {\n",
              "      border-color: transparent;\n",
              "      border-left-color: var(--fill-color);\n",
              "      border-top-color: var(--fill-color);\n",
              "    }\n",
              "    30% {\n",
              "      border-color: transparent;\n",
              "      border-left-color: var(--fill-color);\n",
              "      border-top-color: var(--fill-color);\n",
              "      border-right-color: var(--fill-color);\n",
              "    }\n",
              "    40% {\n",
              "      border-color: transparent;\n",
              "      border-right-color: var(--fill-color);\n",
              "      border-top-color: var(--fill-color);\n",
              "    }\n",
              "    60% {\n",
              "      border-color: transparent;\n",
              "      border-right-color: var(--fill-color);\n",
              "    }\n",
              "    80% {\n",
              "      border-color: transparent;\n",
              "      border-right-color: var(--fill-color);\n",
              "      border-bottom-color: var(--fill-color);\n",
              "    }\n",
              "    90% {\n",
              "      border-color: transparent;\n",
              "      border-bottom-color: var(--fill-color);\n",
              "    }\n",
              "  }\n",
              "</style>\n",
              "\n",
              "  <script>\n",
              "    async function quickchart(key) {\n",
              "      const quickchartButtonEl =\n",
              "        document.querySelector('#' + key + ' button');\n",
              "      quickchartButtonEl.disabled = true;  // To prevent multiple clicks.\n",
              "      quickchartButtonEl.classList.add('colab-df-spinner');\n",
              "      try {\n",
              "        const charts = await google.colab.kernel.invokeFunction(\n",
              "            'suggestCharts', [key], {});\n",
              "      } catch (error) {\n",
              "        console.error('Error during call to suggestCharts:', error);\n",
              "      }\n",
              "      quickchartButtonEl.classList.remove('colab-df-spinner');\n",
              "      quickchartButtonEl.classList.add('colab-df-quickchart-complete');\n",
              "    }\n",
              "    (() => {\n",
              "      let quickchartButtonEl =\n",
              "        document.querySelector('#df-1a2188e4-38ce-4364-a7e9-bd32ca344068 button');\n",
              "      quickchartButtonEl.style.display =\n",
              "        google.colab.kernel.accessAllowed ? 'block' : 'none';\n",
              "    })();\n",
              "  </script>\n",
              "</div>\n",
              "\n",
              "    </div>\n",
              "  </div>\n"
            ],
            "application/vnd.google.colaboratory.intrinsic+json": {
              "type": "dataframe",
              "variable_name": "df",
              "summary": "{\n  \"name\": \"df\",\n  \"rows\": 768,\n  \"fields\": [\n    {\n      \"column\": \"Pregnancies\",\n      \"properties\": {\n        \"dtype\": \"number\",\n        \"std\": 3,\n        \"min\": 0,\n        \"max\": 17,\n        \"num_unique_values\": 17,\n        \"samples\": [\n          6,\n          1,\n          3\n        ],\n        \"semantic_type\": \"\",\n        \"description\": \"\"\n      }\n    },\n    {\n      \"column\": \"Glucose\",\n      \"properties\": {\n        \"dtype\": \"number\",\n        \"std\": 31,\n        \"min\": 0,\n        \"max\": 199,\n        \"num_unique_values\": 136,\n        \"samples\": [\n          151,\n          101,\n          112\n        ],\n        \"semantic_type\": \"\",\n        \"description\": \"\"\n      }\n    },\n    {\n      \"column\": \"BloodPressure\",\n      \"properties\": {\n        \"dtype\": \"number\",\n        \"std\": 19,\n        \"min\": 0,\n        \"max\": 122,\n        \"num_unique_values\": 47,\n        \"samples\": [\n          86,\n          46,\n          85\n        ],\n        \"semantic_type\": \"\",\n        \"description\": \"\"\n      }\n    },\n    {\n      \"column\": \"SkinThickness\",\n      \"properties\": {\n        \"dtype\": \"number\",\n        \"std\": 15,\n        \"min\": 0,\n        \"max\": 99,\n        \"num_unique_values\": 51,\n        \"samples\": [\n          7,\n          12,\n          48\n        ],\n        \"semantic_type\": \"\",\n        \"description\": \"\"\n      }\n    },\n    {\n      \"column\": \"Insulin\",\n      \"properties\": {\n        \"dtype\": \"number\",\n        \"std\": 115,\n        \"min\": 0,\n        \"max\": 846,\n        \"num_unique_values\": 186,\n        \"samples\": [\n          52,\n          41,\n          183\n        ],\n        \"semantic_type\": \"\",\n        \"description\": \"\"\n      }\n    },\n    {\n      \"column\": \"BMI\",\n      \"properties\": {\n        \"dtype\": \"number\",\n        \"std\": 7.8841603203754405,\n        \"min\": 0.0,\n        \"max\": 67.1,\n        \"num_unique_values\": 248,\n        \"samples\": [\n          19.9,\n          31.0,\n          38.1\n        ],\n        \"semantic_type\": \"\",\n        \"description\": \"\"\n      }\n    },\n    {\n      \"column\": \"DiabetesPedigreeFunction\",\n      \"properties\": {\n        \"dtype\": \"number\",\n        \"std\": 0.33132859501277484,\n        \"min\": 0.078,\n        \"max\": 2.42,\n        \"num_unique_values\": 517,\n        \"samples\": [\n          1.731,\n          0.426,\n          0.138\n        ],\n        \"semantic_type\": \"\",\n        \"description\": \"\"\n      }\n    },\n    {\n      \"column\": \"Age\",\n      \"properties\": {\n        \"dtype\": \"number\",\n        \"std\": 11,\n        \"min\": 21,\n        \"max\": 81,\n        \"num_unique_values\": 52,\n        \"samples\": [\n          60,\n          47,\n          72\n        ],\n        \"semantic_type\": \"\",\n        \"description\": \"\"\n      }\n    },\n    {\n      \"column\": \"Outcome\",\n      \"properties\": {\n        \"dtype\": \"number\",\n        \"std\": 0,\n        \"min\": 0,\n        \"max\": 1,\n        \"num_unique_values\": 2,\n        \"samples\": [\n          0,\n          1\n        ],\n        \"semantic_type\": \"\",\n        \"description\": \"\"\n      }\n    }\n  ]\n}"
            }
          },
          "metadata": {},
          "execution_count": 4
        }
      ]
    },
    {
      "cell_type": "markdown",
      "source": [
        "Kode di atas digunakan untuk membaca dataset dari file diabetes.csv dan menampilkan lima baris pertama dari data tersebut menggunakan pustaka pandas. Fungsi pd.read_csv('diabetes.csv') digunakan untuk membaca file CSV dan mengubahnya menjadi sebuah DataFrame, yaitu struktur data berbentuk tabel yang sering digunakan dalam analisis data. Setelah data berhasil dimuat ke dalam variabel df, metode df.head() digunakan untuk menampilkan lima baris pertama dari dataset."
      ],
      "metadata": {
        "id": "Z0ECYC9KSQfd"
      }
    },
    {
      "cell_type": "code",
      "source": [
        "df.info()"
      ],
      "metadata": {
        "colab": {
          "base_uri": "https://localhost:8080/"
        },
        "id": "CKOGnPatMyfs",
        "outputId": "bcd15001-3847-4319-8f60-d59e4dc59ea8"
      },
      "execution_count": null,
      "outputs": [
        {
          "output_type": "stream",
          "name": "stdout",
          "text": [
            "<class 'pandas.core.frame.DataFrame'>\n",
            "RangeIndex: 768 entries, 0 to 767\n",
            "Data columns (total 9 columns):\n",
            " #   Column                    Non-Null Count  Dtype  \n",
            "---  ------                    --------------  -----  \n",
            " 0   Pregnancies               768 non-null    int64  \n",
            " 1   Glucose                   768 non-null    int64  \n",
            " 2   BloodPressure             768 non-null    int64  \n",
            " 3   SkinThickness             768 non-null    int64  \n",
            " 4   Insulin                   768 non-null    int64  \n",
            " 5   BMI                       768 non-null    float64\n",
            " 6   DiabetesPedigreeFunction  768 non-null    float64\n",
            " 7   Age                       768 non-null    int64  \n",
            " 8   Outcome                   768 non-null    int64  \n",
            "dtypes: float64(2), int64(7)\n",
            "memory usage: 54.1 KB\n"
          ]
        }
      ]
    },
    {
      "cell_type": "markdown",
      "source": [
        "Hasil dari perintah df.info() menunjukkan bahwa dataset memiliki 768 baris dan 9 kolom, dengan indeks data berkisar dari 0 hingga 767. Setiap kolom dalam dataset memiliki 768 nilai non-null, yang berarti tidak ada data yang hilang. Kolom-kolom tersebut mencakup berbagai atribut seperti Pregnancies, Glucose, BloodPressure, SkinThickness, Insulin, BMI, DiabetesPedigreeFunction, Age, dan Outcome. Dari segi tipe data, kolom BMI dan DiabetesPedigreeFunction bertipe float64, sementara kolom lainnya bertipe int64, yang menunjukkan bahwa sebagian besar data berupa bilangan bulat kecuali dua atribut yang mengandung nilai desimal."
      ],
      "metadata": {
        "id": "U_ZXLChPTUHN"
      }
    },
    {
      "cell_type": "code",
      "source": [
        "df.isnull().sum()"
      ],
      "metadata": {
        "colab": {
          "base_uri": "https://localhost:8080/",
          "height": 366
        },
        "id": "68fGBnYVM6uZ",
        "outputId": "024381d4-eb79-4123-b878-e82b1cad92e5"
      },
      "execution_count": null,
      "outputs": [
        {
          "output_type": "execute_result",
          "data": {
            "text/plain": [
              "Pregnancies                 0\n",
              "Glucose                     0\n",
              "BloodPressure               0\n",
              "SkinThickness               0\n",
              "Insulin                     0\n",
              "BMI                         0\n",
              "DiabetesPedigreeFunction    0\n",
              "Age                         0\n",
              "Outcome                     0\n",
              "dtype: int64"
            ],
            "text/html": [
              "<div>\n",
              "<style scoped>\n",
              "    .dataframe tbody tr th:only-of-type {\n",
              "        vertical-align: middle;\n",
              "    }\n",
              "\n",
              "    .dataframe tbody tr th {\n",
              "        vertical-align: top;\n",
              "    }\n",
              "\n",
              "    .dataframe thead th {\n",
              "        text-align: right;\n",
              "    }\n",
              "</style>\n",
              "<table border=\"1\" class=\"dataframe\">\n",
              "  <thead>\n",
              "    <tr style=\"text-align: right;\">\n",
              "      <th></th>\n",
              "      <th>0</th>\n",
              "    </tr>\n",
              "  </thead>\n",
              "  <tbody>\n",
              "    <tr>\n",
              "      <th>Pregnancies</th>\n",
              "      <td>0</td>\n",
              "    </tr>\n",
              "    <tr>\n",
              "      <th>Glucose</th>\n",
              "      <td>0</td>\n",
              "    </tr>\n",
              "    <tr>\n",
              "      <th>BloodPressure</th>\n",
              "      <td>0</td>\n",
              "    </tr>\n",
              "    <tr>\n",
              "      <th>SkinThickness</th>\n",
              "      <td>0</td>\n",
              "    </tr>\n",
              "    <tr>\n",
              "      <th>Insulin</th>\n",
              "      <td>0</td>\n",
              "    </tr>\n",
              "    <tr>\n",
              "      <th>BMI</th>\n",
              "      <td>0</td>\n",
              "    </tr>\n",
              "    <tr>\n",
              "      <th>DiabetesPedigreeFunction</th>\n",
              "      <td>0</td>\n",
              "    </tr>\n",
              "    <tr>\n",
              "      <th>Age</th>\n",
              "      <td>0</td>\n",
              "    </tr>\n",
              "    <tr>\n",
              "      <th>Outcome</th>\n",
              "      <td>0</td>\n",
              "    </tr>\n",
              "  </tbody>\n",
              "</table>\n",
              "</div><br><label><b>dtype:</b> int64</label>"
            ]
          },
          "metadata": {},
          "execution_count": 6
        }
      ]
    },
    {
      "cell_type": "markdown",
      "source": [
        "Perintah df.isnull().sum(), yang digunakan untuk memeriksa jumlah nilai null (kosong) dalam setiap kolom dataset. Dari hasil tersebut, terlihat bahwa semua kolom (Pregnancies, Glucose, BloodPressure, SkinThickness, Insulin, BMI, DiabetesPedigreeFunction, Age, dan Outcome) memiliki nilai 0 pada setiap barisnya, yang berarti tidak ada data yang hilang dalam dataset ini."
      ],
      "metadata": {
        "id": "LJtW9Ir0TkAB"
      }
    },
    {
      "cell_type": "code",
      "source": [
        "df[['Glucose', 'BloodPressure', 'SkinThickness', 'Insulin', 'BMI']] = df[['Glucose', 'BloodPressure', 'SkinThickness', 'Insulin', 'BMI']].replace(0, np.nan)\n",
        "df.isnull().sum()"
      ],
      "metadata": {
        "colab": {
          "base_uri": "https://localhost:8080/",
          "height": 366
        },
        "id": "O0qolFU-M9eC",
        "outputId": "26bf98d3-4868-4caf-a7cc-4f5c7427aeda"
      },
      "execution_count": null,
      "outputs": [
        {
          "output_type": "execute_result",
          "data": {
            "text/plain": [
              "Pregnancies                   0\n",
              "Glucose                       5\n",
              "BloodPressure                35\n",
              "SkinThickness               227\n",
              "Insulin                     374\n",
              "BMI                          11\n",
              "DiabetesPedigreeFunction      0\n",
              "Age                           0\n",
              "Outcome                       0\n",
              "dtype: int64"
            ],
            "text/html": [
              "<div>\n",
              "<style scoped>\n",
              "    .dataframe tbody tr th:only-of-type {\n",
              "        vertical-align: middle;\n",
              "    }\n",
              "\n",
              "    .dataframe tbody tr th {\n",
              "        vertical-align: top;\n",
              "    }\n",
              "\n",
              "    .dataframe thead th {\n",
              "        text-align: right;\n",
              "    }\n",
              "</style>\n",
              "<table border=\"1\" class=\"dataframe\">\n",
              "  <thead>\n",
              "    <tr style=\"text-align: right;\">\n",
              "      <th></th>\n",
              "      <th>0</th>\n",
              "    </tr>\n",
              "  </thead>\n",
              "  <tbody>\n",
              "    <tr>\n",
              "      <th>Pregnancies</th>\n",
              "      <td>0</td>\n",
              "    </tr>\n",
              "    <tr>\n",
              "      <th>Glucose</th>\n",
              "      <td>5</td>\n",
              "    </tr>\n",
              "    <tr>\n",
              "      <th>BloodPressure</th>\n",
              "      <td>35</td>\n",
              "    </tr>\n",
              "    <tr>\n",
              "      <th>SkinThickness</th>\n",
              "      <td>227</td>\n",
              "    </tr>\n",
              "    <tr>\n",
              "      <th>Insulin</th>\n",
              "      <td>374</td>\n",
              "    </tr>\n",
              "    <tr>\n",
              "      <th>BMI</th>\n",
              "      <td>11</td>\n",
              "    </tr>\n",
              "    <tr>\n",
              "      <th>DiabetesPedigreeFunction</th>\n",
              "      <td>0</td>\n",
              "    </tr>\n",
              "    <tr>\n",
              "      <th>Age</th>\n",
              "      <td>0</td>\n",
              "    </tr>\n",
              "    <tr>\n",
              "      <th>Outcome</th>\n",
              "      <td>0</td>\n",
              "    </tr>\n",
              "  </tbody>\n",
              "</table>\n",
              "</div><br><label><b>dtype:</b> int64</label>"
            ]
          },
          "metadata": {},
          "execution_count": 7
        }
      ]
    },
    {
      "cell_type": "markdown",
      "source": [
        "Kode yang digunakan berfungsi untuk mengganti nilai 0 dalam beberapa kolom tertentu (Glucose, BloodPressure, SkinThickness, Insulin, dan BMI) dengan NaN (missing values). Hal ini dilakukan karena dalam konteks medis, nilai 0 pada atribut tersebut tidak masuk akal dan kemungkinan besar merupakan data yang hilang atau tidak tercatat dengan benar. Setelah penggantian dilakukan, perintah df.isnull().sum() digunakan untuk menghitung jumlah nilai yang hilang dalam setiap kolom.\n",
        "\n",
        "Berdasarkan output yang ditampilkan, jumlah nilai yang hilang dalam dataset setelah penggantian nilai 0 dengan NaN adalah:\n",
        "- Glucose memiliki 5 nilai yang hilang.\n",
        "- BloodPressure memiliki 35 nilai yang hilang.\n",
        "- SkinThickness memiliki 227 nilai yang hilang, menunjukkan sebagian besar data pada kolom ini mungkin tidak tercatat.\n",
        "- Insulin memiliki 374 nilai yang hilang, yang berarti lebih dari separuh data pada kolom ini tidak tersedia.\n",
        "- BMI memiliki 11 nilai yang hilang.\n",
        "Sementara itu, kolom lainnya seperti\n",
        "\n",
        "Pregnancies, DiabetesPedigreeFunction, Age, dan Outcome tidak memiliki nilai yang hilang. Dari hasil ini, langkah selanjutnya dalam analisis adalah menentukan bagaimana menangani nilai yang hilang tersebut, misalnya dengan melakukan imputasi (mengisi nilai yang hilang) menggunakan metode seperti rata-rata (mean), median, atau teknik lebih kompleks seperti regresi atau KNN imputation. Alternatif lain adalah menghapus baris yang memiliki terlalu banyak nilai yang hilang jika jumlahnya tidak signifikan terhadap keseluruhan dataset."
      ],
      "metadata": {
        "id": "wNHiJgZJUMJP"
      }
    },
    {
      "cell_type": "code",
      "source": [
        "df['Glucose'] = df['Glucose'].fillna(df['Glucose'].median())\n",
        "df['BloodPressure'] = df['BloodPressure'].fillna(df['BloodPressure'].median())\n",
        "df['SkinThickness'] = df['SkinThickness'].fillna(df['SkinThickness'].median())\n",
        "df['Insulin'] = df['Insulin'].fillna(df['Insulin'].median())\n",
        "df['BMI'] = df['BMI'].fillna(df['BMI'].median())\n",
        "df.isnull().sum()"
      ],
      "metadata": {
        "colab": {
          "base_uri": "https://localhost:8080/",
          "height": 366
        },
        "id": "JJ475ucDNIqh",
        "outputId": "bec9af2c-789a-4d27-cd33-5a955b6ae103"
      },
      "execution_count": null,
      "outputs": [
        {
          "output_type": "execute_result",
          "data": {
            "text/plain": [
              "Pregnancies                 0\n",
              "Glucose                     0\n",
              "BloodPressure               0\n",
              "SkinThickness               0\n",
              "Insulin                     0\n",
              "BMI                         0\n",
              "DiabetesPedigreeFunction    0\n",
              "Age                         0\n",
              "Outcome                     0\n",
              "dtype: int64"
            ],
            "text/html": [
              "<div>\n",
              "<style scoped>\n",
              "    .dataframe tbody tr th:only-of-type {\n",
              "        vertical-align: middle;\n",
              "    }\n",
              "\n",
              "    .dataframe tbody tr th {\n",
              "        vertical-align: top;\n",
              "    }\n",
              "\n",
              "    .dataframe thead th {\n",
              "        text-align: right;\n",
              "    }\n",
              "</style>\n",
              "<table border=\"1\" class=\"dataframe\">\n",
              "  <thead>\n",
              "    <tr style=\"text-align: right;\">\n",
              "      <th></th>\n",
              "      <th>0</th>\n",
              "    </tr>\n",
              "  </thead>\n",
              "  <tbody>\n",
              "    <tr>\n",
              "      <th>Pregnancies</th>\n",
              "      <td>0</td>\n",
              "    </tr>\n",
              "    <tr>\n",
              "      <th>Glucose</th>\n",
              "      <td>0</td>\n",
              "    </tr>\n",
              "    <tr>\n",
              "      <th>BloodPressure</th>\n",
              "      <td>0</td>\n",
              "    </tr>\n",
              "    <tr>\n",
              "      <th>SkinThickness</th>\n",
              "      <td>0</td>\n",
              "    </tr>\n",
              "    <tr>\n",
              "      <th>Insulin</th>\n",
              "      <td>0</td>\n",
              "    </tr>\n",
              "    <tr>\n",
              "      <th>BMI</th>\n",
              "      <td>0</td>\n",
              "    </tr>\n",
              "    <tr>\n",
              "      <th>DiabetesPedigreeFunction</th>\n",
              "      <td>0</td>\n",
              "    </tr>\n",
              "    <tr>\n",
              "      <th>Age</th>\n",
              "      <td>0</td>\n",
              "    </tr>\n",
              "    <tr>\n",
              "      <th>Outcome</th>\n",
              "      <td>0</td>\n",
              "    </tr>\n",
              "  </tbody>\n",
              "</table>\n",
              "</div><br><label><b>dtype:</b> int64</label>"
            ]
          },
          "metadata": {},
          "execution_count": 8
        }
      ]
    },
    {
      "cell_type": "markdown",
      "source": [
        "Kode di atas bertujuan untuk menangani nilai yang hilang (missing values) dalam beberapa kolom pada DataFrame df. Dalam setiap baris, kita menggunakan metode fillna() untuk mengisi nilai yang hilang pada kolom tertentu dengan nilai median dari kolom tersebut.\n",
        "\n",
        "Pertama, kolom 'Glucose' diisi dengan median dari 'Glucose', kemudian kolom 'BloodPressure' diisi dengan median dari 'BloodPressure', dan seterusnya untuk kolom 'SkinThickness', 'Insulin', dan 'BMI'. Penggunaan median sebagai pengganti nilai yang hilang dipilih karena median lebih stabil dan tidak terpengaruh oleh nilai ekstrem (outlier), sehingga memberikan representasi yang lebih akurat dari data yang ada. Setelah semua kolom yang ditargetkan diisi, kita menggunakan isnull().sum() untuk memeriksa kembali jumlah nilai yang hilang di setiap kolom, memastikan bahwa semua nilai yang hilang telah ditangani dengan baik. Dengan langkah ini, kita meningkatkan kualitas data yang akan digunakan untuk analisis lebih lanjut."
      ],
      "metadata": {
        "id": "0gWtqs01VcKM"
      }
    },
    {
      "cell_type": "code",
      "source": [
        "plt.figure(figsize=(10, 6))\n",
        "matrix = np.triu(df.corr())\n",
        "sns.heatmap(df.corr(), annot=True, cmap='Blues', mask=matrix)"
      ],
      "metadata": {
        "colab": {
          "base_uri": "https://localhost:8080/",
          "height": 706
        },
        "id": "tyuD-TjMNLsD",
        "outputId": "52388752-89ad-43b7-b59b-4cad0cb36d1c"
      },
      "execution_count": null,
      "outputs": [
        {
          "output_type": "execute_result",
          "data": {
            "text/plain": [
              "<Axes: >"
            ]
          },
          "metadata": {},
          "execution_count": 12
        },
        {
          "output_type": "display_data",
          "data": {
            "text/plain": [
              "<Figure size 1000x600 with 2 Axes>"
            ],
            "image/png": "[encoded data removed]"
          },
          "metadata": {}
        }
      ]
    },
    {
      "cell_type": "markdown",
      "source": [
        "Gambar yang ditampilkan adalah representasi visual dari matriks korelasi yang dibuat menggunakan pustaka Seaborn dan Matplotlib dalam Python. Pada gambar ini, kita dapat melihat pemetaan hubungan antara beberapa variabel, seperti \"Pregnancies,\" \"Glucose,\" \"BloodPressure,\" \"SkinThickness,\" \"Insulin,\" \"BMI,\" \"DiabetesPedigreeFunction,\" \"Age,\" dan \"Outcome.\" Setiap kotak di matriks menunjukkan nilai korelasi antara dua variabel, dengan nilai berkisar antara -1 hingga 1;\n",
        "- nilai dekat 1 menunjukkan hubungan positif yang kuat\n",
        "- nilai dekat -1 menunjukkan hubungan negatif yang kuat.\n",
        "\n",
        "Dalam matriks ini, warna biru yang lebih gelap menunjukkan tingkat korelasi yang lebih tinggi, memudahkan pengamatan pola dan hubungan antar variabel.\n",
        "\n",
        "Misalnya, terlihat bahwa \"BMI\" memiliki korelasi yang tinggi dengan \"Insulin\" dan \"Age,\" sementara \"Pregnancies\" berkorelasi baik dengan \"Age\" dan \"Outcome.\""
      ],
      "metadata": {
        "id": "gDE6uip8V96G"
      }
    },
    {
      "cell_type": "code",
      "source": [
        "from matplotlib.pyplot import figure, show\n",
        "figure(figsize=(8, 6))\n",
        "ax = sns.countplot(x=df['Outcome'], data=df, palette=\"husl\")\n",
        "ax.set_xticklabels([\"Healthy\", \"Diabetic\"])\n",
        "healthy, diabetics = df['Outcome'].value_counts().values\n",
        "print(\"Sum of Diabetic: \", diabetics)\n",
        "print(\"Sum of Healthy: \", healthy)"
      ],
      "metadata": {
        "colab": {
          "base_uri": "https://localhost:8080/",
          "height": 698
        },
        "id": "IBkbqIBqNWtN",
        "outputId": "539c3392-d2a4-4ab8-da70-cf265c1fbc1a"
      },
      "execution_count": null,
      "outputs": [
        {
          "output_type": "stream",
          "name": "stderr",
          "text": [
            "<ipython-input-14-702f3f056e9e>:3: FutureWarning: \n",
            "\n",
            "Passing `palette` without assigning `hue` is deprecated and will be removed in v0.14.0. Assign the `x` variable to `hue` and set `legend=False` for the same effect.\n",
            "\n",
            "  ax = sns.countplot(x=df['Outcome'], data=df, palette=\"husl\")\n",
            "<ipython-input-14-702f3f056e9e>:4: UserWarning: set_ticklabels() should only be used with a fixed number of ticks, i.e. after set_ticks() or using a FixedLocator.\n",
            "  ax.set_xticklabels([\"Healthy\", \"Diabetic\"])\n"
          ]
        },
        {
          "output_type": "stream",
          "name": "stdout",
          "text": [
            "Sum of Diabetic:  268\n",
            "Sum of Healthy:  500\n"
          ]
        },
        {
          "output_type": "display_data",
          "data": {
            "text/plain": [
              "<Figure size 800x600 with 1 Axes>"
            ],
            "image/png": "[encoded data removed]"
          },
          "metadata": {}
        }
      ]
    },
    {
      "cell_type": "code",
      "source": [
        "from imblearn.over_sampling import SMOTE\n",
        "from imblearn.under_sampling import RandomUnderSampler\n",
        "from imblearn.pipeline import Pipeline\n",
        "from sklearn.model_selection import train_test_split\n",
        "from sklearn.preprocessing import StandardScaler\n",
        "from sklearn.linear_model import LogisticRegression\n",
        "from sklearn.metrics import accuracy_score\n",
        "\n",
        "X = df.drop(columns=['Outcome'])\n",
        "y = df['Outcome']\n",
        "\n",
        "# Split data\n",
        "X_train, X_test, y_train, y_test = train_test_split(X, y, test_size=0.2, random_state=42, stratify=y)\n",
        "\n",
        "# Normalisasi data\n",
        "scaler = StandardScaler()\n",
        "X_train_scaled = scaler.fit_transform(X_train)\n",
        "X_test_scaled = scaler.transform(X_test)"
      ],
      "metadata": {
        "id": "6Of1GTdsNkHL"
      },
      "execution_count": null,
      "outputs": []
    },
    {
      "cell_type": "markdown",
      "source": [
        "menghapus kolom yang tidak diperlukan dan memisahkan dataset menjadi fitur dan target. Pada skrip yang diberikan, kolom 'Outcome' dihapus dari DataFrame untuk membentuk variabel fitur (X), sementara kolom 'Outcome' itu sendiri diambil sebagai variabel target (y). Setelah itu, data dibagi menjadi set pelatihan dan set pengujian menggunakan fungsi train_test_split, di mana 20% dari data digunakan untuk pengujian dan sisanya untuk pelatihan. Parameter stratify=y memastikan bahwa proporsi kelas dalam variabel target (y) dipertahankan dalam kedua set tersebut.\n",
        "\n",
        "Selanjutnya, proses normalisasi data dilakukan dengan menggunakan StandardScaler untuk menghindari bias yang mungkin disebabkan oleh skala fitur yang berbeda. Data fitur pelatihan (X_{train}) dinormalisasi menggunakan metode fit_transform, sedangkan data fitur pengujian (X_{test}) dinormalisasi dengan transform agar tidak memperoleh informasi tentang data pengujian saat proses normalisasi."
      ],
      "metadata": {
        "id": "bR7kvVrJX1LT"
      }
    },
    {
      "cell_type": "code",
      "source": [
        "# Oversampling\n",
        "smote = SMOTE(sampling_strategy='auto', random_state=42)\n",
        "X_train_smote, y_train_smote = smote.fit_resample(X_train_scaled, y_train)\n",
        "\n",
        "# Undersampling\n",
        "undersample = RandomUnderSampler(sampling_strategy='auto', random_state=42)\n",
        "X_train_under, y_train_under = undersample.fit_resample(X_train_scaled, y_train)"
      ],
      "metadata": {
        "id": "2msaup0rNsoX"
      },
      "execution_count": null,
      "outputs": []
    },
    {
      "cell_type": "markdown",
      "source": [
        "Pada pengolahan data untuk model prediksi, teknik oversampling dan undersampling dapat digunakan untuk mengatasi masalah ketidakseimbangan kelas. Dalam contoh di atas, metode SMOTE (Synthetic Minority Over-sampling Technique) diterapkan untuk melakukan oversampling. Teknik ini bekerja dengan cara menciptakan contoh sintetis dari kelas minoritas hingga proporsinya seimbang dengan kelas mayoritas. Dalam kasus ini, variabel X_train_smote dan y_train_smote menyimpan dataset yang telah di-oversample, memastikan bahwa model dapat belajar dengan lebih efektif dari data yang seimbang.\n",
        "\n",
        "Di sisi lain, undersampling merupakan pendekatan yang mengurangi jumlah contoh dari kelas mayoritas untuk mencapai keseimbangan. Dengan menggunakan RandomUnderSampler, jumlah data di kelas mayoritas dikurangi secara acak, menghasilkan dataset dengan X_train_under dan y_train_under. Teknik ini bertujuan untuk mencegah model bias terhadap kelas mayoritas dan memungkinkan model belajar lebih baik tentang kelas minoritas yang sebelumnya mungkin kurang terwakili. Keduanya adalah teknik penting dalam preprocessing data untuk pembelajaran mesin, terutama saat menangani dataset dengan distribusi kelas yang tidak merata."
      ],
      "metadata": {
        "id": "o8AfGCt_Y6qq"
      }
    },
    {
      "cell_type": "code",
      "source": [
        "# Visualisasi distribusi kelas sebelum dan sesudah sampling\n",
        "fig, axes = plt.subplots(1, 3, figsize=(18, 5))\n",
        "\n",
        "sns.countplot(x=y_train, ax=axes[0], palette='husl')\n",
        "axes[0].set_title('Distribusi sebelum Sampling')\n",
        "\n",
        "sns.countplot(x=y_train_smote, ax=axes[1], palette='husl')\n",
        "axes[1].set_title('Distribusi setelah Oversampling')\n",
        "\n",
        "sns.countplot(x=y_train_under, ax=axes[2], palette='husl')\n",
        "axes[2].set_title('Distribusi setelah Undersampling')\n",
        "\n",
        "plt.show()"
      ],
      "metadata": {
        "colab": {
          "base_uri": "https://localhost:8080/",
          "height": 729
        },
        "id": "IFnjFL5tN12l",
        "outputId": "3d4a01a9-07b6-4471-9117-7ed05c81385a"
      },
      "execution_count": null,
      "outputs": [
        {
          "output_type": "stream",
          "name": "stderr",
          "text": [
            "<ipython-input-19-8528ef6b0f65>:4: FutureWarning: \n",
            "\n",
            "Passing `palette` without assigning `hue` is deprecated and will be removed in v0.14.0. Assign the `x` variable to `hue` and set `legend=False` for the same effect.\n",
            "\n",
            "  sns.countplot(x=y_train, ax=axes[0], palette='husl')\n",
            "<ipython-input-19-8528ef6b0f65>:7: FutureWarning: \n",
            "\n",
            "Passing `palette` without assigning `hue` is deprecated and will be removed in v0.14.0. Assign the `x` variable to `hue` and set `legend=False` for the same effect.\n",
            "\n",
            "  sns.countplot(x=y_train_smote, ax=axes[1], palette='husl')\n",
            "<ipython-input-19-8528ef6b0f65>:10: FutureWarning: \n",
            "\n",
            "Passing `palette` without assigning `hue` is deprecated and will be removed in v0.14.0. Assign the `x` variable to `hue` and set `legend=False` for the same effect.\n",
            "\n",
            "  sns.countplot(x=y_train_under, ax=axes[2], palette='husl')\n"
          ]
        },
        {
          "output_type": "display_data",
          "data": {
            "text/plain": [
              "<Figure size 1800x500 with 3 Axes>"
            ],
            "image/png": "[encoded data removed]"
          },
          "metadata": {}
        }
      ]
    },
    {
      "cell_type": "markdown",
      "source": [
        "Gambar di atas menunjukkan distribusi kelas dalam dataset sebelum dan sesudah dilakukan sampling untuk menangani ketidakseimbangan data (imbalanced data) pada variabel target Outcome. Terdapat tiga grafik yang masing-masing merepresentasikan distribusi kelas sebelum dan setelah sampling:\n",
        "\n",
        "1. Distribusi sebelum Sampling (Grafik Kiri)\n",
        "- Grafik ini menunjukkan bahwa dataset awal memiliki distribusi kelas yang tidak seimbang.\n",
        "- Kelas 0 (tidak menderita diabetes) jauh lebih banyak dibandingkan kelas 1 (menderita diabetes).\n",
        "- Ketidakseimbangan ini bisa menyebabkan model machine learning bias terhadap kelas mayoritas.\n",
        "\n",
        "2. Distribusi setelah Oversampling (Grafik Tengah)\n",
        "- Teknik oversampling digunakan untuk menyeimbangkan data dengan menambah jumlah sampel dari kelas minoritas (kelas 1).\n",
        "- Dari grafik terlihat bahwa setelah oversampling, jumlah sampel dari kelas 0 dan kelas 1 menjadi seimbang.\n",
        "- Salah satu metode yang bisa digunakan dalam oversampling adalah SMOTE (Synthetic Minority Over-sampling Technique), yang membuat sampel sintetis berdasarkan data minoritas yang ada.\n",
        "\n",
        "3. Distribusi setelah Undersampling (Grafik Kanan)\n",
        "- Teknik undersampling digunakan untuk menyeimbangkan data dengan mengurangi jumlah sampel dari kelas mayoritas (kelas 0).\n",
        "- Dari grafik terlihat bahwa setelah undersampling, jumlah sampel dari kedua kelas menjadi seimbang dengan mengurangi sampel kelas mayoritas.\n",
        "- Teknik ini cocok digunakan jika dataset awal memiliki jumlah data yang sangat besar, namun dapat berisiko menghilangkan informasi yang berharga dari kelas mayoritas."
      ],
      "metadata": {
        "id": "RVM-QRA8ZgDB"
      }
    },
    {
      "cell_type": "code",
      "source": [
        "from sklearn.linear_model import LogisticRegression\n",
        "from sklearn.neighbors import KNeighborsClassifier\n",
        "from sklearn.tree import DecisionTreeClassifier\n",
        "\n",
        "# Model Logistic Regression\n",
        "models = {\n",
        "    \"Logistic Regression\": LogisticRegression(),\n",
        "    \"K-Nearest Neighbors\": KNeighborsClassifier(),\n",
        "    \"Decision Tree\": DecisionTreeClassifier()\n",
        "}"
      ],
      "metadata": {
        "id": "1VOTxLS7OCs2"
      },
      "execution_count": null,
      "outputs": []
    },
    {
      "cell_type": "markdown",
      "source": [
        "Kode di atas mendefinisikan tiga model machine learning yang digunakan untuk klasifikasi, yaitu **Logistic Regression**, **K-Nearest Neighbors (KNN)**, dan **Decision Tree**. Pertama, dilakukan import library dari `sklearn`, di mana `LogisticRegression` digunakan untuk membangun model regresi logistik yang sering dipakai dalam klasifikasi biner. Selanjutnya, `KNeighborsClassifier` menerapkan algoritma K-Nearest Neighbors (KNN), yang menentukan kelas berdasarkan kedekatan data dalam ruang fitur. Terakhir, `DecisionTreeClassifier` membangun model berbasis pohon keputusan yang memisahkan data menggunakan aturan if-else untuk klasifikasi. Ketiga model ini kemudian disimpan dalam dictionary bernama `models`, yang memungkinkan pengguna untuk mengaksesnya secara fleksibel berdasarkan nama model yang telah ditentukan. Struktur ini mempermudah proses pelatihan, pengujian, dan perbandingan performa dari berbagai algoritma klasifikasi yang digunakan dalam analisis dataset."
      ],
      "metadata": {
        "id": "SGjj2vYtbBn6"
      }
    },
    {
      "cell_type": "code",
      "source": [
        "from sklearn.linear_model import LogisticRegression\n",
        "from sklearn.metrics import confusion_matrix, classification_report, accuracy_score\n",
        "\n",
        "# Evaluasi pada data tanpa sampling\n",
        "print(\"Evaluasi tanpa Sampling:\")\n",
        "for name, model in models.items():\n",
        "    model.fit(X_train_scaled, y_train)\n",
        "    y_pred = model.predict(X_test_scaled)\n",
        "    accuracy = accuracy_score(y_test, y_pred)\n",
        "    print(f'{name}: {accuracy:.4f}')\n",
        "    print(confusion_matrix(y_test, y_pred))\n",
        "    print(classification_report(y_test, y_pred))"
      ],
      "metadata": {
        "colab": {
          "base_uri": "https://localhost:8080/"
        },
        "id": "Eh3-JkhDOE2z",
        "outputId": "02fec367-08cf-4484-900b-4707deca5529"
      },
      "execution_count": null,
      "outputs": [
        {
          "output_type": "stream",
          "name": "stdout",
          "text": [
            "Evaluasi tanpa Sampling:\n",
            "Logistic Regression: 0.7078\n",
            "[[82 18]\n",
            " [27 27]]\n",
            "              precision    recall  f1-score   support\n",
            "\n",
            "           0       0.75      0.82      0.78       100\n",
            "           1       0.60      0.50      0.55        54\n",
            "\n",
            "    accuracy                           0.71       154\n",
            "   macro avg       0.68      0.66      0.67       154\n",
            "weighted avg       0.70      0.71      0.70       154\n",
            "\n",
            "K-Nearest Neighbors: 0.7532\n",
            "[[83 17]\n",
            " [21 33]]\n",
            "              precision    recall  f1-score   support\n",
            "\n",
            "           0       0.80      0.83      0.81       100\n",
            "           1       0.66      0.61      0.63        54\n",
            "\n",
            "    accuracy                           0.75       154\n",
            "   macro avg       0.73      0.72      0.72       154\n",
            "weighted avg       0.75      0.75      0.75       154\n",
            "\n",
            "Decision Tree: 0.6753\n",
            "[[78 22]\n",
            " [28 26]]\n",
            "              precision    recall  f1-score   support\n",
            "\n",
            "           0       0.74      0.78      0.76       100\n",
            "           1       0.54      0.48      0.51        54\n",
            "\n",
            "    accuracy                           0.68       154\n",
            "   macro avg       0.64      0.63      0.63       154\n",
            "weighted avg       0.67      0.68      0.67       154\n",
            "\n"
          ]
        }
      ]
    },
    {
      "cell_type": "markdown",
      "source": [
        "Kode di atas mengevaluasi performa tiga model klasifikasi, yaitu **Logistic Regression**, **K-Nearest Neighbors (KNN)**, dan **Decision Tree**, pada data tanpa menerapkan teknik sampling. Setiap model dilatih menggunakan **X_train_scaled** dan **y_train**, lalu diuji pada **X_test_scaled** untuk menghasilkan prediksi **y_pred**. Selanjutnya, dilakukan pengukuran akurasi menggunakan **accuracy_score**, serta analisis lebih lanjut dengan **confusion_matrix** dan **classification_report** untuk melihat metrik evaluasi lainnya seperti **precision, recall, dan f1-score**.\n",
        "\n",
        "Hasil evaluasi menunjukkan bahwa **K-Nearest Neighbors (KNN)** memiliki akurasi tertinggi sebesar **75.32%**, diikuti oleh **Logistic Regression** dengan **70.78%**, dan **Decision Tree** dengan **67.53%**. Dari confusion matrix, terlihat bahwa model **Logistic Regression** dan **KNN** memiliki performa yang lebih baik dalam mengklasifikasikan kelas **0 (Negatif)** dibandingkan kelas **1 (Positif)**. Model **Logistic Regression** memiliki precision **0.75** untuk kelas **0** dan **0.60** untuk kelas **1**, sementara **KNN** mencapai precision **0.80** untuk kelas **0** dan **0.66** untuk kelas **1**. **Decision Tree**, di sisi lain, memiliki performa yang lebih rendah dengan precision **0.74** untuk kelas **0** dan hanya **0.54** untuk kelas **1**, menunjukkan bahwa model ini lebih sering salah mengklasifikasikan kelas positif."
      ],
      "metadata": {
        "id": "0lTfYOq4bmaW"
      }
    },
    {
      "cell_type": "code",
      "source": [
        "# Evaluasi pada data oversampling\n",
        "print(\"\\nEvaluasi dengan SMOTE (Oversampling):\")\n",
        "for name, model in models.items():\n",
        "    model.fit(X_train_smote, y_train_smote)\n",
        "    y_pred_smote = model.predict(X_test_scaled)\n",
        "    accuracy_smote = accuracy_score(y_test, y_pred_smote)\n",
        "    print(f'{name}: {accuracy_smote:.4f}')\n",
        "    print(confusion_matrix(y_test, y_pred_smote))\n",
        "    print(classification_report(y_test, y_pred_smote))"
      ],
      "metadata": {
        "colab": {
          "base_uri": "https://localhost:8080/"
        },
        "id": "1IfJyuhEOIlL",
        "outputId": "326dbc24-9e09-4003-c2ac-a4b3b95fbad2"
      },
      "execution_count": null,
      "outputs": [
        {
          "output_type": "stream",
          "name": "stdout",
          "text": [
            "\n",
            "Evaluasi dengan SMOTE (Oversampling):\n",
            "Logistic Regression: 0.7143\n",
            "[[74 26]\n",
            " [18 36]]\n",
            "              precision    recall  f1-score   support\n",
            "\n",
            "           0       0.80      0.74      0.77       100\n",
            "           1       0.58      0.67      0.62        54\n",
            "\n",
            "    accuracy                           0.71       154\n",
            "   macro avg       0.69      0.70      0.70       154\n",
            "weighted avg       0.73      0.71      0.72       154\n",
            "\n",
            "K-Nearest Neighbors: 0.6948\n",
            "[[69 31]\n",
            " [16 38]]\n",
            "              precision    recall  f1-score   support\n",
            "\n",
            "           0       0.81      0.69      0.75       100\n",
            "           1       0.55      0.70      0.62        54\n",
            "\n",
            "    accuracy                           0.69       154\n",
            "   macro avg       0.68      0.70      0.68       154\n",
            "weighted avg       0.72      0.69      0.70       154\n",
            "\n",
            "Decision Tree: 0.6883\n",
            "[[74 26]\n",
            " [22 32]]\n",
            "              precision    recall  f1-score   support\n",
            "\n",
            "           0       0.77      0.74      0.76       100\n",
            "           1       0.55      0.59      0.57        54\n",
            "\n",
            "    accuracy                           0.69       154\n",
            "   macro avg       0.66      0.67      0.66       154\n",
            "weighted avg       0.69      0.69      0.69       154\n",
            "\n"
          ]
        }
      ]
    },
    {
      "cell_type": "markdown",
      "source": [
        "Kode di atas mengevaluasi performa tiga model klasifikasi — Logistic Regression, K-Nearest Neighbors (KNN), dan Decision Tree — setelah menerapkan SMOTE (Synthetic Minority Over-sampling Technique) pada data pelatihan. Teknik SMOTE digunakan untuk menyeimbangkan dataset dengan menambahkan sampel sintetis pada kelas minoritas, sehingga model dapat belajar lebih baik dalam mengklasifikasikan kedua kelas. Setelah model dilatih menggunakan data oversampling (X_train_smote dan y_train_smote), pengujian tetap dilakukan pada data uji yang sama (X_test_scaled), sehingga hasil evaluasi dapat dibandingkan dengan hasil sebelumnya.\n",
        "\n",
        "Hasil evaluasi menunjukkan bahwa setelah oversampling, akurasi ketiga model cenderung meningkat dalam mengenali kelas minoritas. Logistic Regression memiliki akurasi tertinggi sebesar 71.43%, dengan recall untuk kelas positif meningkat menjadi 0.67, yang berarti model lebih baik dalam mendeteksi kasus positif dibandingkan sebelumnya. KNN, yang sebelumnya unggul, kini memiliki akurasi 69.48%, dengan precision untuk kelas positif sebesar 0.55 dan recall yang cukup baik, yaitu 0.70, menunjukkan model ini lebih sering mengklasifikasikan kelas positif dengan benar, meskipun terkadang masih salah mengklasifikasikan kelas negatif. Decision Tree juga menunjukkan peningkatan yang serupa, dengan akurasi 68.83%, precision dan recall yang lebih seimbang, meskipun performanya sedikit di bawah Logistic Regression."
      ],
      "metadata": {
        "id": "R_CchfeicuDD"
      }
    },
    {
      "cell_type": "code",
      "source": [
        "# Evaluasi data undersampling\n",
        "print(\"\\nEvaluasi Undersampling:\")\n",
        "for name, model in models.items():\n",
        "    model.fit(X_train_under, y_train_under)\n",
        "    y_pred_under = model.predict(X_test_scaled)\n",
        "    accuracy_under = accuracy_score(y_test, y_pred_under)\n",
        "    print(f'{name}: {accuracy_under:.4f}')\n",
        "    print(confusion_matrix(y_test, y_pred_under))\n",
        "    print(classification_report(y_test, y_pred_under))"
      ],
      "metadata": {
        "colab": {
          "base_uri": "https://localhost:8080/"
        },
        "id": "4GmVDhVTOK1j",
        "outputId": "5b0768c8-9e2b-4cc6-84b6-883d150d1e94"
      },
      "execution_count": null,
      "outputs": [
        {
          "output_type": "stream",
          "name": "stdout",
          "text": [
            "\n",
            "Evaluasi Undersampling:\n",
            "Logistic Regression: 0.7338\n",
            "[[74 26]\n",
            " [15 39]]\n",
            "              precision    recall  f1-score   support\n",
            "\n",
            "           0       0.83      0.74      0.78       100\n",
            "           1       0.60      0.72      0.66        54\n",
            "\n",
            "    accuracy                           0.73       154\n",
            "   macro avg       0.72      0.73      0.72       154\n",
            "weighted avg       0.75      0.73      0.74       154\n",
            "\n",
            "K-Nearest Neighbors: 0.7143\n",
            "[[69 31]\n",
            " [13 41]]\n",
            "              precision    recall  f1-score   support\n",
            "\n",
            "           0       0.84      0.69      0.76       100\n",
            "           1       0.57      0.76      0.65        54\n",
            "\n",
            "    accuracy                           0.71       154\n",
            "   macro avg       0.71      0.72      0.70       154\n",
            "weighted avg       0.75      0.71      0.72       154\n",
            "\n",
            "Decision Tree: 0.6883\n",
            "[[73 27]\n",
            " [21 33]]\n",
            "              precision    recall  f1-score   support\n",
            "\n",
            "           0       0.78      0.73      0.75       100\n",
            "           1       0.55      0.61      0.58        54\n",
            "\n",
            "    accuracy                           0.69       154\n",
            "   macro avg       0.66      0.67      0.67       154\n",
            "weighted avg       0.70      0.69      0.69       154\n",
            "\n"
          ]
        }
      ]
    },
    {
      "cell_type": "markdown",
      "source": [
        "- Pada hasil evaluasi ini, Logistic Regression memiliki akurasi tertinggi, yaitu 73.38%, dengan recall kelas positif meningkat menjadi 0.72. Hal ini menunjukkan bahwa model lebih baik dalam mendeteksi kelas minoritas dibandingkan dengan metode tanpa sampling maupun oversampling. Precision untuk kelas positif adalah 0.60, yang berarti masih terdapat beberapa kesalahan dalam mengklasifikasikan sampel negatif sebagai positif.\n",
        "\n",
        "- K-Nearest Neighbors (KNN) mencatat akurasi 71.43%, dengan recall kelas positif yang cukup tinggi, yaitu 0.76, menunjukkan bahwa model lebih sering mengklasifikasikan kasus positif dengan benar dibandingkan metode sebelumnya. Namun, precision untuk kelas positif masih cukup rendah, yaitu 0.57, yang menunjukkan adanya prediksi positif yang keliru.\n",
        "\n",
        "- Decision Tree, di sisi lain, memiliki akurasi 68.83%, yang mirip dengan hasil setelah oversampling. Precision dan recall pada kelas positif masing-masing sebesar 0.55 dan 0.61, yang menunjukkan keseimbangan antara identifikasi kelas minoritas dan mayoritas, meskipun performanya masih lebih rendah dibandingkan Logistic Regression dan KNN."
      ],
      "metadata": {
        "id": "6kNgzTwmdYOr"
      }
    }
  ]
}