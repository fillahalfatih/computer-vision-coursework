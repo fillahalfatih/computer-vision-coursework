{
  "nbformat": 4,
  "nbformat_minor": 0,
  "metadata": {
    "colab": {
      "provenance": []
    },
    "kernelspec": {
      "name": "python3",
      "display_name": "Python 3"
    },
    "language_info": {
      "name": "python"
    }
  },
  "cells": [
    {
      "cell_type": "code",
      "execution_count": null,
      "metadata": {
        "colab": {
          "base_uri": "https://localhost:8080/",
          "height": 844
        },
        "id": "kjYaIvzFsLYM",
        "outputId": "d19414c2-23a8-4b5f-a7e6-6b5ec8db6e41"
      },
      "outputs": [
        {
          "output_type": "display_data",
          "data": {
            "text/plain": [
              "<Figure size 500x400 with 1 Axes>"
            ],
            "image/png": "[encoded data removed]"
          },
          "metadata": {}
        },
        {
          "output_type": "stream",
          "name": "stdout",
          "text": [
            "============================================================\n",
            "True Positives (TP)       = 1\n",
            "True Negatives (TN)       = 6\n",
            "False Positives (FP)      = 1\n",
            "False Negatives (FN)      = 2\n",
            "============================================================\n",
            "Accuracy                  = 0.70\n",
            "Precision                 = 0.50\n",
            "Recall                    = 0.33\n",
            "F1 Score                  = 0.40\n",
            "Negative Predictive Value (NPV) = 0.75\n",
            "Specificity               = 0.86\n",
            "F1 Score Class 0          = 0.80\n",
            "============================================================\n",
            "\n",
            "Classification Report:\n",
            "              precision    recall  f1-score   support\n",
            "\n",
            "           0       0.75      0.86      0.80         7\n",
            "           1       0.50      0.33      0.40         3\n",
            "\n",
            "    accuracy                           0.70        10\n",
            "   macro avg       0.62      0.60      0.60        10\n",
            "weighted avg       0.68      0.70      0.68        10\n",
            "\n"
          ]
        }
      ],
      "source": [
        "from sklearn.metrics import confusion_matrix, classification_report\n",
        "import matplotlib.pyplot as plt\n",
        "import seaborn as sns\n",
        "\n",
        "# Misalkan kita sudah memiliki y_test dan y_pred\n",
        "y_test = [1, 0, 0, 0, 0, 0, 1, 0, 1, 0]\n",
        "y_pred = [0, 0, 0, 0, 1, 0, 0, 0, 1, 0]\n",
        "\n",
        "# Confusion Matrix\n",
        "cm = confusion_matrix(y_test, y_pred)\n",
        "plt.figure(figsize=(5, 4))\n",
        "sns.heatmap(cm, annot=True, fmt='d', cmap='Blues', cbar=False)\n",
        "plt.xlabel('Predicted')\n",
        "plt.ylabel('Actual')\n",
        "plt.title('Confusion Matrix')\n",
        "plt.show()\n",
        "\n",
        "# Extract TP, TN, FP, FN\n",
        "tn, fp, fn, tp = cm.ravel()\n",
        "\n",
        "# Metrics Calculation\n",
        "accuracy = (tp + tn) / (tp + tn + fp + fn)\n",
        "precision = tp / (tp + fp) if (tp + fp) != 0 else 0\n",
        "recall = tp / (tp + fn) if (tp + fn) != 0 else 0\n",
        "f1_score = 2 * ((precision * recall) / (precision + recall)) if (precision + recall) != 0 else 0\n",
        "NPV = tn / (tn + fn) if (tn + fn) != 0 else 0  # Negative Predictive Value\n",
        "specificity = tn / (tn + fp) if (tn + fp) != 0 else 0  # True Negative Rate\n",
        "F1_neg = 2 * ((NPV * specificity) / (NPV + specificity)) if (NPV + specificity) != 0 else 0\n",
        "\n",
        "# Print Metrics\n",
        "print(\"=\" * 60)\n",
        "print(f\"{'True Positives (TP)':<25} = {tp}\")\n",
        "print(f\"{'True Negatives (TN)':<25} = {tn}\")\n",
        "print(f\"{'False Positives (FP)':<25} = {fp}\")\n",
        "print(f\"{'False Negatives (FN)':<25} = {fn}\")\n",
        "print(\"=\" * 60)\n",
        "print(f\"{'Accuracy':<25} = {accuracy:.2f}\")\n",
        "print(f\"{'Precision':<25} = {precision:.2f}\")\n",
        "print(f\"{'Recall':<25} = {recall:.2f}\")\n",
        "print(f\"{'F1 Score':<25} = {f1_score:.2f}\")\n",
        "print(f\"{'Negative Predictive Value (NPV)':<25} = {NPV:.2f}\")\n",
        "print(f\"{'Specificity':<25} = {specificity:.2f}\")\n",
        "print(f\"{'F1 Score Class 0':<25} = {F1_neg:.2f}\")\n",
        "print(\"=\" * 60)\n",
        "\n",
        "# Classification Report\n",
        "print(\"\\nClassification Report:\")\n",
        "print(classification_report(y_test, y_pred))"
      ]
    },
    {
      "cell_type": "code",
      "source": [
        "import numpy as np\n",
        "import pandas as pd\n",
        "from sklearn.model_selection import train_test_split, KFold, cross_val_score\n",
        "from sklearn.linear_model import LogisticRegression\n",
        "from sklearn.metrics import accuracy_score, precision_score, recall_score, f1_score, classification_report\n",
        "from sklearn.datasets import load_iris\n",
        "\n",
        "# Load dataset\n",
        "data = load_iris()\n",
        "X, y = data.data, data.target\n",
        "\n",
        "# Split data menjadi train dan test\n",
        "X_train_class, X_test_class, y_train_class, y_test_class = train_test_split(\n",
        "    X, y, test_size=0.2, random_state=42\n",
        ")\n",
        "\n",
        "# Melatih model klasifikasi\n",
        "model_class = LogisticRegression(max_iter=200)\n",
        "model_class.fit(X_train_class, y_train_class)\n",
        "\n",
        "# Prediksi\n",
        "y_pred_class = model_class.predict(X_test_class)\n",
        "\n",
        "# Classification Report\n",
        "print(\"Classification Report:\")\n",
        "print(classification_report(y_test_class, y_pred_class))\n",
        "\n",
        "print(\"\\nUsing K-Fold Cross Validation\")\n",
        "\n",
        "# Define K-Fold Cross-Validation\n",
        "kf = KFold(n_splits=5, shuffle=True, random_state=42)\n",
        "\n",
        "# Perform K-Fold Cross-Validation\n",
        "scores = cross_val_score(model_class, X, y, cv=kf)\n",
        "print(\"Cross-Validation Scores:\", [f\"{score:.2f}\" for score in scores])\n",
        "print(\"Mean Score: %.2f\" % scores.mean())"
      ],
      "metadata": {
        "colab": {
          "base_uri": "https://localhost:8080/"
        },
        "id": "lm9d1SCytgkl",
        "outputId": "7074585a-9a59-4bc8-bb42-0758d4ccc68f"
      },
      "execution_count": null,
      "outputs": [
        {
          "output_type": "stream",
          "name": "stdout",
          "text": [
            "Classification Report:\n",
            "              precision    recall  f1-score   support\n",
            "\n",
            "           0       1.00      1.00      1.00        10\n",
            "           1       1.00      1.00      1.00         9\n",
            "           2       1.00      1.00      1.00        11\n",
            "\n",
            "    accuracy                           1.00        30\n",
            "   macro avg       1.00      1.00      1.00        30\n",
            "weighted avg       1.00      1.00      1.00        30\n",
            "\n",
            "\n",
            "Using K-Fold Cross Validation\n",
            "Cross-Validation Scores: ['1.00', '1.00', '0.93', '0.97', '0.97']\n",
            "Mean Score: 0.97\n"
          ]
        }
      ]
    }
  ]
}