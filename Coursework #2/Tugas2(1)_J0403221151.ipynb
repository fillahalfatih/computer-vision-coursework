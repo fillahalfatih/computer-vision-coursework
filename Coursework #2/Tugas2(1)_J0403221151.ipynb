{
  "nbformat": 4,
  "nbformat_minor": 0,
  "metadata": {
    "colab": {
      "provenance": []
    },
    "kernelspec": {
      "name": "python3",
      "display_name": "Python 3"
    },
    "language_info": {
      "name": "python"
    }
  },
  "cells": [
    {
      "cell_type": "code",
      "execution_count": null,
      "metadata": {
        "colab": {
          "base_uri": "https://localhost:8080/"
        },
        "id": "wiF5hKEkD_ko",
        "outputId": "820c83f4-782a-4575-c8b9-0f45e3d221ec"
      },
      "outputs": [
        {
          "output_type": "stream",
          "name": "stdout",
          "text": [
            "Requirement already satisfied: BeautifulSoup4 in /usr/local/lib/python3.11/dist-packages (4.12.3)\n",
            "Requirement already satisfied: soupsieve>1.2 in /usr/local/lib/python3.11/dist-packages (from BeautifulSoup4) (2.6)\n",
            "Requirement already satisfied: requests in /usr/local/lib/python3.11/dist-packages (2.32.3)\n",
            "Requirement already satisfied: charset-normalizer<4,>=2 in /usr/local/lib/python3.11/dist-packages (from requests) (3.4.1)\n",
            "Requirement already satisfied: idna<4,>=2.5 in /usr/local/lib/python3.11/dist-packages (from requests) (3.10)\n",
            "Requirement already satisfied: urllib3<3,>=1.21.1 in /usr/local/lib/python3.11/dist-packages (from requests) (2.3.0)\n",
            "Requirement already satisfied: certifi>=2017.4.17 in /usr/local/lib/python3.11/dist-packages (from requests) (2024.12.14)\n"
          ]
        }
      ],
      "source": [
        "!pip install BeautifulSoup4\n",
        "!pip install requests"
      ]
    },
    {
      "cell_type": "code",
      "source": [
        "import requests\n",
        "from bs4 import BeautifulSoup\n",
        "import pandas as pd\n",
        "import numpy as np\n",
        "\n",
        "# ambil berita detik\n",
        "def getBeritaDetik(url):\n",
        "    B = {}\n",
        "    response = requests.get(url)\n",
        "    soup = BeautifulSoup(response.text, 'html.parser')\n",
        "\n",
        "    # ambil elemen-elemen berita\n",
        "    B['judul'] = soup.find('h1', {'class': 'detail__title'}).text.replace('\\n', \"\").strip()\n",
        "    B['tanggal'] = soup.find('div', {'class': 'detail__date'}).text.replace('\\n', \"\").strip()\n",
        "    B['author'] = soup.find('div', {'class': 'detail__author'}).text.replace('\\n', \"\").strip()\n",
        "    berita = soup.find('div', {'class': 'detail__body-text'})\n",
        "    text_berita = berita.text\n",
        "\n",
        "    # bersihkan isi berita\n",
        "    blah = berita.find_all(\"table\")\n",
        "    for x in blah:\n",
        "        text_berita = text_berita.replace(x.text, \"\").replace('\\n', \"\").strip()\n",
        "\n",
        "    B['berita'] = text_berita\n",
        "    return B"
      ],
      "metadata": {
        "id": "W78mEXDDJRaD"
      },
      "execution_count": null,
      "outputs": []
    },
    {
      "cell_type": "code",
      "source": [
        "import requests\n",
        "from bs4 import BeautifulSoup\n",
        "\n",
        "def indexBerita(tanggal, jumlahHalaman):\n",
        "    daftarBerita = []\n",
        "    halaman = 0\n",
        "\n",
        "    for halaman in range(0, jumlahHalaman):\n",
        "        halaman = halaman + 1\n",
        "\n",
        "        base_url = 'https://news.detik.com/berita/indeks?page=' + str(halaman) + \"&date=\" + tanggal\n",
        "        # print(base_url)\n",
        "\n",
        "        # Request URL dan BeautifulSoup Parser\n",
        "        r = requests.get(base_url)\n",
        "        soup = BeautifulSoup(r.text, \"html.parser\")\n",
        "\n",
        "        berita_container = soup.find('div', {'id': 'indeks-container'})\n",
        "        berita = berita_container.find_all('article')\n",
        "\n",
        "        for item in berita:\n",
        "            x = item.find('a', href=True)\n",
        "            berita = getBeritaDetik(x['href'])\n",
        "            daftarBerita.append(berita)\n",
        "\n",
        "    return daftarBerita"
      ],
      "metadata": {
        "id": "HMNK9HDaIJ4n"
      },
      "execution_count": null,
      "outputs": []
    },
    {
      "cell_type": "code",
      "source": [
        "# Contoh penggunaan\n",
        "tanggal = '02/02/2021'\n",
        "jumlahHalaman = 1\n",
        "\n",
        "list_berita = indexBerita(tanggal, jumlahHalaman)\n",
        "\n",
        "# Ubah ke DataFrame\n",
        "df = pd.DataFrame(list_berita)\n",
        "print(df.columns)\n",
        "print(df)"
      ],
      "metadata": {
        "colab": {
          "base_uri": "https://localhost:8080/"
        },
        "id": "o076gCJqHGIM",
        "outputId": "982fb296-74a8-4c86-97e3-411ca0dc5655"
      },
      "execution_count": null,
      "outputs": [
        {
          "output_type": "stream",
          "name": "stdout",
          "text": [
            "Index(['judul', 'tanggal', 'author', 'berita'], dtype='object')\n",
            "                                                judul  \\\n",
            "0   Gencar Senayan Suarakan Jaminan WNI Aman di Te...   \n",
            "1   KKB Serang Warga-Aparat Bikin Para Raider 501 ...   \n",
            "2   Polemik Lampu Jalan Padam di Pekanbaru Imbas N...   \n",
            "3   5 Nelayan Aceh yang Dipulangkan dari India Pos...   \n",
            "4   Syuting Picu Kerumunan Warga, Manajemen Sinetr...   \n",
            "5   KPK Terus Pantau Pengadaan hingga Distribusi V...   \n",
            "6   Wakil Ketua Komisi XI Imbau Masyarakat Waspada...   \n",
            "7       Kepulauan Talaud Sulut Diguncang Gempa 2 Kali   \n",
            "8   RS Pelni Luruskan Viral Poster Pendaftaran-Har...   \n",
            "9   Beri Santunan Anak Yatim, Bamsoet Ajak Doa Ber...   \n",
            "10  Pemprov DKI soal Pilkada 2024: Kami Ikuti UU y...   \n",
            "11  Bacok Pencuri hingga Tewas, Pria di Bima Jadi ...   \n",
            "12  Pertamina Perketat Pencegahan COVID-19 di Unit...   \n",
            "13  5 Hal Terungkap di Kasus Asabri Kuras Duit Neg...   \n",
            "14  PPSU di Jakpus Nyaris Jadi Korban Curanmor, Pe...   \n",
            "15  Respons Marah Marzuki Alie Hingga Max Sopacua ...   \n",
            "16  Pemprov DKI Jakarta Akan Kaji Usulan Lockdown ...   \n",
            "17  DPRA Ngaku Pernah Surati Mendagri soal Pilkada...   \n",
            "18  Marzuki Alie Anggap AHY Fitnah Terkait Kudeta,...   \n",
            "19  Meski Ada Bak Besar, Masih Saja Orang Nyampah ...   \n",
            "\n",
            "                          tanggal                                  author  \\\n",
            "0   Selasa, 02 Feb 2021 23:58 WIB        Hestiana Dharmastuti - detikNews   \n",
            "1   Selasa, 02 Feb 2021 23:49 WIB                Tim detikcom - detikNews   \n",
            "2   Selasa, 02 Feb 2021 23:43 WIB                Tim detikcom - detikNews   \n",
            "3   Selasa, 02 Feb 2021 23:08 WIB                Agus Setyadi - detikNews   \n",
            "4   Selasa, 02 Feb 2021 23:00 WIB                 Antara News - detikNews   \n",
            "5   Selasa, 02 Feb 2021 22:52 WIB         Farih Maulana Sidik - detikNews   \n",
            "6   Selasa, 02 Feb 2021 22:49 WIB            Mega Putra Ratya - detikNews   \n",
            "7   Selasa, 02 Feb 2021 22:26 WIB                Isal Mawardi - detikNews   \n",
            "8   Selasa, 02 Feb 2021 22:24 WIB                Tim detikcom - detikNews   \n",
            "9   Selasa, 02 Feb 2021 22:08 WIB          Faidah Umu Sofuroh - detikNews   \n",
            "10  Selasa, 02 Feb 2021 22:05 WIB               Tiara Aliya A - detikNews   \n",
            "11  Selasa, 02 Feb 2021 21:45 WIB             Faruk Nickyrawi - detikNews   \n",
            "12  Selasa, 02 Feb 2021 21:43 WIB            Moch Prima Fauzi - detikNews   \n",
            "13  Selasa, 02 Feb 2021 21:31 WIB                Tim detikcom - detikNews   \n",
            "14  Selasa, 02 Feb 2021 21:27 WIB               Rahmat Fathan - detikNews   \n",
            "15  Selasa, 02 Feb 2021 21:23 WIB                Tim detikcom - detikNews   \n",
            "16  Selasa, 02 Feb 2021 21:23 WIB               Tiara Aliya A - detikNews   \n",
            "17  Selasa, 02 Feb 2021 21:21 WIB                Agus Setyadi - detikNews   \n",
            "18  Selasa, 02 Feb 2021 21:11 WIB       Rahel Narda Chaterine - detikNews   \n",
            "19  Selasa, 02 Feb 2021 21:08 WIB  Taufieq Renaldi Arfiansyah - detikNews   \n",
            "\n",
            "                                               berita  \n",
            "0   Jakarta -  Myanmar tengah bergejolak usai toko...  \n",
            "1   Jakarta -  Kelompok kriminal bersenjata (KKB) ...  \n",
            "2   Pekanbaru -  Kenyamanan warga Kota Pekanbaru y...  \n",
            "3   Jakarta - Lima nelayan Aceh yang dipulangkan d...  \n",
            "4   Bogor - Pemerintah Kabupaten Bogor mengenakan ...  \n",
            "5   Jakarta - KPK bersama Badan Pengawasan Keuanga...  \n",
            "6   Jakarta - Wakil Ketua Komisi XI Fathan Subchi ...  \n",
            "7   Talaud - Melonguane, Kepulauan Talaud, Sulawes...  \n",
            "8   Jakarta - Viral poster yang menunjukkan pendaf...  \n",
            "9   Jakarta - Ketua MPR RI Bambang Soesatyo bersam...  \n",
            "10  Jakarta -  Pemerintah melalui Kementerian Dala...  \n",
            "11  Bima - Seorang pria di Bima, Nusa Tenggara Bar...  \n",
            "12  Jakarta - PT Pertamina (Persero) menerapkan pr...  \n",
            "13  Jakarta -  Kasus dugaan korupsi penyimpangan i...  \n",
            "14  Jakarta - Seorang pria berinisial WP ditangkap...  \n",
            "15  Jakarta -  Para politisi senior Partai Demokra...  \n",
            "16  Jakarta -  Ketua Fraksi PAN DPR Saleh Partanon...  \n",
            "17  Banda Aceh - Dewan Perwakilan Rakyat Aceh (DPR...  \n",
            "18  Jakarta - Eks Sekjen Partai Demokrat (PD) Marz...  \n",
            "19  Tangerang Selatan -  Tadi sore, bak besar (arm...  \n"
          ]
        }
      ]
    },
    {
      "cell_type": "code",
      "source": [
        "df.to_csv('berita_detik.csv', index=False)"
      ],
      "metadata": {
        "id": "JQAxDWZrJ88Z"
      },
      "execution_count": null,
      "outputs": []
    },
    {
      "cell_type": "code",
      "source": [
        "df.to_excel('berita_detik.xlsx', index=False)"
      ],
      "metadata": {
        "id": "R50YcvRqKGqZ"
      },
      "execution_count": null,
      "outputs": []
    }
  ]
}